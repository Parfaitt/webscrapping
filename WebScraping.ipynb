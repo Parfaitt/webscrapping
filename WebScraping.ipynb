{
 "cells": [
  {
   "cell_type": "code",
   "execution_count": 1,
   "id": "96ca00df-d1cb-4e73-90d3-8bc110abd1fc",
   "metadata": {
    "tags": []
   },
   "outputs": [],
   "source": [
    "import requests\n",
    "from bs4 import BeautifulSoup\n",
    "import pandas as pd"
   ]
  },
  {
   "cell_type": "code",
   "execution_count": 2,
   "id": "59fbd776-1466-4e42-b1d5-fded130b7952",
   "metadata": {
    "tags": []
   },
   "outputs": [],
   "source": [
    "url=\"https://feeds.bbci.co.uk/news/rss.xml\""
   ]
  },
  {
   "cell_type": "code",
   "execution_count": 3,
   "id": "aac95707-3ec7-4d94-88ab-a6eaadf68830",
   "metadata": {
    "tags": []
   },
   "outputs": [
    {
     "name": "stderr",
     "output_type": "stream",
     "text": [
      "/home/ngoran/.local/lib/python3.10/site-packages/bs4/builder/__init__.py:545: XMLParsedAsHTMLWarning: It looks like you're parsing an XML document using an HTML parser. If this really is an HTML document (maybe it's XHTML?), you can ignore or filter this warning. If it's XML, you should know that using an XML parser will be more reliable. To parse this document as XML, make sure you have the lxml package installed, and pass the keyword argument `features=\"xml\"` into the BeautifulSoup constructor.\n",
      "  warnings.warn(\n"
     ]
    }
   ],
   "source": [
    "#Importer le code de la page\n",
    "reponse=requests.get(url)\n",
    "soup=BeautifulSoup(reponse.text,\"html.parser\")"
   ]
  },
  {
   "cell_type": "code",
   "execution_count": 4,
   "id": "d02b3701-b723-48d3-8798-2f264b6ee7dc",
   "metadata": {
    "tags": []
   },
   "outputs": [],
   "source": [
    "#On cherche tous les items\n",
    "items=soup.findAll(\"item\")[0]"
   ]
  },
  {
   "cell_type": "code",
   "execution_count": 5,
   "id": "da8c3e28-8bb9-4f22-a175-29b99106cf1e",
   "metadata": {
    "tags": []
   },
   "outputs": [
    {
     "data": {
      "text/plain": [
       "<item>\n",
       "<title><![CDATA[Madeleine McCann: Police to search Portuguese reservoir - local reports]]></title>\n",
       "<description><![CDATA[Police will start combing the area, 50km from where the toddler went missing, local media reports.]]></description>\n",
       "<link/>https://www.bbc.co.uk/news/uk-65673674?at_medium=RSS&amp;at_campaign=KARANGA\n",
       "            <guid ispermalink=\"false\">https://www.bbc.co.uk/news/uk-65673674</guid>\n",
       "<pubdate>Mon, 22 May 2023 14:10:33 GMT</pubdate>\n",
       "</item>"
      ]
     },
     "execution_count": 5,
     "metadata": {},
     "output_type": "execute_result"
    }
   ],
   "source": [
    "item=items\n",
    "item"
   ]
  },
  {
   "cell_type": "code",
   "execution_count": 6,
   "id": "48fcd764-ab6c-4601-908e-7326b88110a2",
   "metadata": {
    "tags": []
   },
   "outputs": [
    {
     "data": {
      "text/plain": [
       "'Madeleine McCann: Police to search Portuguese reservoir - local reports'"
      ]
     },
     "execution_count": 6,
     "metadata": {},
     "output_type": "execute_result"
    }
   ],
   "source": [
    "item.title.text"
   ]
  },
  {
   "cell_type": "code",
   "execution_count": 7,
   "id": "454195cf-b6c4-432d-a24c-ca34658fee20",
   "metadata": {
    "tags": []
   },
   "outputs": [
    {
     "data": {
      "text/plain": [
       "'Police will start combing the area, 50km from where the toddler went missing, local media reports.'"
      ]
     },
     "execution_count": 7,
     "metadata": {},
     "output_type": "execute_result"
    }
   ],
   "source": [
    "item.description.text"
   ]
  },
  {
   "cell_type": "code",
   "execution_count": 8,
   "id": "089ad398-7225-48b8-8642-71eb8c5f2ea7",
   "metadata": {
    "tags": []
   },
   "outputs": [
    {
     "data": {
      "text/plain": [
       "'Mon, 22 May 2023 14:10:33 GMT'"
      ]
     },
     "execution_count": 8,
     "metadata": {},
     "output_type": "execute_result"
    }
   ],
   "source": [
    "item.pubdate.text"
   ]
  },
  {
   "cell_type": "code",
   "execution_count": 9,
   "id": "250cec0a-7fa6-4c6c-9e48-5fdece7740c5",
   "metadata": {
    "tags": []
   },
   "outputs": [],
   "source": [
    "#Extraire tous les donnés de la page pour stocker dans la liste new\n",
    "news_items=[]"
   ]
  },
  {
   "cell_type": "code",
   "execution_count": 10,
   "id": "fc2c33ec-f99b-4b06-a63c-512147e312e2",
   "metadata": {
    "tags": []
   },
   "outputs": [],
   "source": [
    "# Get all the items\n",
    "items = soup.findAll(\"item\")\n",
    "\n",
    "# Loop through each item and add it to the news_items list\n",
    "for i in items:\n",
    "    news_i={}\n",
    "    news_i['title']=i.title.text\n",
    "    news_i['description']=i.description.text\n",
    "    news_i['pubdate']=i.pubdate.text\n",
    "    news_items.append(news_i)"
   ]
  },
  {
   "cell_type": "code",
   "execution_count": 11,
   "id": "ca1025b8-1038-4f43-908a-602d19032c81",
   "metadata": {},
   "outputs": [
    {
     "data": {
      "text/plain": [
       "[{'title': 'Madeleine McCann: Police to search Portuguese reservoir - local reports',\n",
       "  'description': 'Police will start combing the area, 50km from where the toddler went missing, local media reports.',\n",
       "  'pubdate': 'Mon, 22 May 2023 14:10:33 GMT'},\n",
       " {'title': \"I'm confident nothing untoward happened over speeding course, says Suella Braverman\",\n",
       "  'description': 'The home secretary refuses to confirm if she asked civil servants to arrange a one-to-one speeding awareness course.',\n",
       "  'pubdate': 'Mon, 22 May 2023 13:53:11 GMT'},\n",
       " {'title': \"BBC's Naga Munchetty reveals womb condition adenomyosis\",\n",
       "  'description': 'The presenter shares her diagnosis of debilitating womb disorder adenomyosis with BBC Radio 5 Live listeners.',\n",
       "  'pubdate': 'Mon, 22 May 2023 10:00:33 GMT'},\n",
       " {'title': 'Cyclist Mark Cavendish to retire at end of season',\n",
       "  'description': \"Mark Cavendish, one of Britain's most successful cyclists and winner of a joint-record 34 stages of the Tour de France, announces his retirement.\",\n",
       "  'pubdate': 'Mon, 22 May 2023 12:24:35 GMT'},\n",
       " {'title': 'Picnics and blooms: The Chelsea Flower Show in pictures',\n",
       "  'description': 'Exhibitors are making last-minute adjustments to their displays before the gates open on Tuesday.',\n",
       "  'pubdate': 'Mon, 22 May 2023 12:55:27 GMT'},\n",
       " {'title': 'Laura Nuttall: Bucket list brain cancer fundraiser dies',\n",
       "  'description': 'The 23-year-old was given 12 months to live five years ago and went on to complete a list of ambitions.',\n",
       "  'pubdate': 'Mon, 22 May 2023 11:59:08 GMT'},\n",
       " {'title': 'Ex-Mirror chief regrets unlawful behaviour at newspapers',\n",
       "  'description': \"Sly Bailey said she had 'no knowledge' of the activities and wanted 'to put the record straight'.\",\n",
       "  'pubdate': 'Mon, 22 May 2023 12:38:25 GMT'},\n",
       " {'title': \"Graeme Souness: Football legend to swim Channel for 'butterfly skin' girl\",\n",
       "  'description': 'The footballer fought back tears as he described the bravery of Isla Grist, who has the rare condition.',\n",
       "  'pubdate': 'Mon, 22 May 2023 12:13:07 GMT'},\n",
       " {'title': \"Phillip Schofield: Alison Hammond and Dermot O'Leary pay tribute on This Morning\",\n",
       "  'description': \"Stand-in presenters Alison Hammond and Dermot O'Leary discuss Phillip Schofield following his exit.\",\n",
       "  'pubdate': 'Mon, 22 May 2023 10:37:22 GMT'},\n",
       " {'title': 'Margaret Ferrier: Covid train trip MP loses appeal over Commons ban',\n",
       "  'description': \"A by-election is now more likely in Margaret Ferrier's Rutherglen and Hamilton West constituency.\",\n",
       "  'pubdate': 'Mon, 22 May 2023 13:49:39 GMT'},\n",
       " {'title': \"Foo Fighters: Josh Freese joins as drummer after Taylor Hawkins' death\",\n",
       "  'description': \"Josh Freese played drums at the rock band's two memorial concerts for Taylor Hawkins last year.\",\n",
       "  'pubdate': 'Mon, 22 May 2023 10:40:00 GMT'},\n",
       " {'title': \"Watch: Escaped water buffalo herd wreck Essex couple's garden\",\n",
       "  'description': 'A couple win compensation from a farm after the animals cause £25,000 of damage in the garden.',\n",
       "  'pubdate': 'Mon, 22 May 2023 13:49:57 GMT'},\n",
       " {'title': \"Explaining the 'how' - the launch of BBC Verify\",\n",
       "  'description': 'BBC News CEO Deborah Turness introduces Verify, where BBC journalists share their evidence gathering.',\n",
       "  'pubdate': 'Sun, 21 May 2023 23:12:36 GMT'},\n",
       " {'title': 'Battle of the museums for £120,000 prize',\n",
       "  'description': 'Attractions in London, Glasgow, Belfast and Orkney are in the running to win UK Museum of the Year.',\n",
       "  'pubdate': 'Mon, 22 May 2023 08:00:46 GMT'},\n",
       " {'title': 'The best of British press photography',\n",
       "  'description': \"Members of the British Press Photographers' Association show off their best shots.\",\n",
       "  'pubdate': 'Mon, 22 May 2023 00:28:50 GMT'},\n",
       " {'title': 'Phillip Schofield and Holly Willoughby: What went wrong for This Morning pair?',\n",
       "  'description': \"The presenter left ITV's This Morning after reports of a strained relationship with Holly Willoughby.\",\n",
       "  'pubdate': 'Sun, 21 May 2023 08:09:56 GMT'},\n",
       " {'title': 'Extreme weather more common but less deadly',\n",
       "  'description': 'Better early warning systems and disaster management mean fewer lives lost to extreme weather.',\n",
       "  'pubdate': 'Mon, 22 May 2023 14:05:53 GMT'},\n",
       " {'title': 'Waiting at South Sudan airport with nowhere to go',\n",
       "  'description': 'Thousands of people find themselves stranded in South Sudan after fleeing the conflict to the north.',\n",
       "  'pubdate': 'Sun, 21 May 2023 23:06:14 GMT'},\n",
       " {'title': 'Titanic: Amateur radio heard SOS in Welsh town 3,000 miles away',\n",
       "  'description': \"Artie Moore's homemade station picked up the ship's distress signals - but nobody believed him.\",\n",
       "  'pubdate': 'Mon, 22 May 2023 05:13:01 GMT'},\n",
       " {'title': \"'Pay your writers!' Students interrupt Warner Bros CEO speech\",\n",
       "  'description': 'Warner Bros CEO David Zaslav was speaking a graduation ceremony for students at Boston University.',\n",
       "  'pubdate': 'Mon, 22 May 2023 08:46:52 GMT'},\n",
       " {'title': 'Junior doctors in Scotland offered 14.5% pay rise',\n",
       "  'description': 'The new Scottish government pay offer comes after BMA Scotland members voted for strike action.',\n",
       "  'pubdate': 'Mon, 22 May 2023 09:29:39 GMT'},\n",
       " {'title': 'Hinge and Bracket star George Logan dies aged 78',\n",
       "  'description': 'The entertainer was well known in the 1970s and 1980s as one half of the comedy and musical act.',\n",
       "  'pubdate': 'Mon, 22 May 2023 08:21:24 GMT'},\n",
       " {'title': 'Comic Uncle Roger banned on Chinese social media',\n",
       "  'description': 'The British-Malaysian comedian made a joke about the authoritarian government in Beijing.',\n",
       "  'pubdate': 'Mon, 22 May 2023 10:50:19 GMT'},\n",
       " {'title': \"Roblox: Ten-year-old spent £2,500 of mum's money without her knowing\",\n",
       "  'description': 'Tesco Bank initially refused to refund the mum but changed its mind after a BBC show got involved.',\n",
       "  'pubdate': 'Mon, 22 May 2023 05:08:31 GMT'},\n",
       " {'title': 'Watch: Fire ravages historic Manila post office building',\n",
       "  'description': 'A massive blaze tore through Manila’s historic Central Post Office late Sunday.',\n",
       "  'pubdate': 'Mon, 22 May 2023 06:51:08 GMT'},\n",
       " {'title': \"Interest rate 'rigging' evidence 'covered up' by banks\",\n",
       "  'description': \"This evidence was not shown to juries where bankers were jailed for smaller-scale interest rate 'rigging'.\",\n",
       "  'pubdate': 'Mon, 22 May 2023 07:54:16 GMT'},\n",
       " {'title': 'Watch: Green flash as meteor blazes across sky',\n",
       "  'description': 'Residents in north-east Australia caught a glimpse of what scientists believe to be a meteor on Saturday night.',\n",
       "  'pubdate': 'Mon, 22 May 2023 03:46:10 GMT'},\n",
       " {'title': 'China bans major chip maker Micron from key infrastructure projects',\n",
       "  'description': \"It is China's first major move against a US chip maker, as tensions increase between Beijing and Washington.\",\n",
       "  'pubdate': 'Mon, 22 May 2023 12:42:48 GMT'},\n",
       " {'title': 'Manchester Arena survivors lack support, study finds',\n",
       "  'description': 'Some young Manchester Arena attack survivors have not received professional support, research finds.',\n",
       "  'pubdate': 'Mon, 22 May 2023 06:04:43 GMT'},\n",
       " {'title': 'US debt ceiling: Joe Biden urges Republicans to compromise as talks resume',\n",
       "  'description': 'The president will meet top Republican Kevin McCarthy on Monday for talks on lifting the ceiling.',\n",
       "  'pubdate': 'Mon, 22 May 2023 07:59:23 GMT'},\n",
       " {'title': 'James Anderson: England fast bowler reflects on career 20 years after Test debut',\n",
       "  'description': \"From Burnley Cricket Club to becoming England's greatest fast bowler, James Anderson reflects on his career 20 years on from his Test debut.\",\n",
       "  'pubdate': 'Mon, 22 May 2023 05:47:40 GMT'},\n",
       " {'title': 'Racist abuse of Vinicius Jr shows society illness, says Guillem Balague',\n",
       "  'description': 'The disgusting racist abuse of Vinicius Jr receives almost whenever he plays in La Liga shows that things need to change.',\n",
       "  'pubdate': 'Mon, 22 May 2023 12:05:54 GMT'},\n",
       " {'title': 'Everton reach exclusivity agreement with MSP over investment',\n",
       "  'description': 'Everton have reached an exclusivity agreement with New York-based company MSP Sports Capital for investment in the club, BBC Sport understands.',\n",
       "  'pubdate': 'Mon, 22 May 2023 14:14:04 GMT'},\n",
       " {'title': 'US PGA Championship 2023: Brooks Koepka beats Scottie Scheffler and Viktor Hovland at Oak Hill',\n",
       "  'description': 'A resurgent Brooks Koepka holds off Scottie Scheffler and Viktor Hovland to claim his third US PGA Championship title at Oak Hill.',\n",
       "  'pubdate': 'Mon, 22 May 2023 00:22:50 GMT'},\n",
       " {'title': \"Mancheser United's Hayley Ladd and Chelsea's Guro Reiten in WSL best goals\",\n",
       "  'description': 'Watch the best goals from this weekend\\'s Women\\'s Super League fixtures including a \"brilliant\" finish from Chelsea\\'s Guro Reiten and Manchester United\\'s Hayley Ladd scores from long range.',\n",
       "  'pubdate': 'Mon, 22 May 2023 12:47:49 GMT'},\n",
       " {'title': 'Graeme Souness on charity English Channel swim for girl with rare skin condition',\n",
       "  'description': 'Former Liverpool, Rangers and Scotland player Graeme Souness is swimming the English Channel to raise funds for charity after meeting 14-year-old Isla Grist.',\n",
       "  'pubdate': 'Mon, 22 May 2023 09:19:51 GMT'},\n",
       " {'title': \"Why food bills aren't shrinking - five things to know\",\n",
       "  'description': 'Prices in the shops remain much higher than a year ago, despite falls in energy and food costs.',\n",
       "  'pubdate': 'Sun, 21 May 2023 23:04:48 GMT'},\n",
       " {'title': \"Cost of living: What are your rights as a tenant when you're renting?\",\n",
       "  'description': \"With one in five people now renting in the UK, it's important to understand your rights as a tenant.\",\n",
       "  'pubdate': 'Wed, 17 May 2023 14:38:10 GMT'},\n",
       " {'title': 'First time home buyers: How much can I borrow?',\n",
       "  'description': 'With rents rising, more people are crunching the numbers to see if they can afford to buy.',\n",
       "  'pubdate': 'Fri, 12 May 2023 09:47:46 GMT'},\n",
       " {'title': 'How to cut energy and heating costs at home',\n",
       "  'description': 'Consumer Affairs Correspondent Colletta Smith has picked out some of the best ways to cut costs in your home.',\n",
       "  'pubdate': 'Thu, 29 Sep 2022 23:08:25 GMT'},\n",
       " {'title': 'Can you get cheaper broadband deals with social tariffs?',\n",
       "  'description': 'Find out whether you are eligible for a social tariff and how to pay less each month.',\n",
       "  'pubdate': 'Thu, 18 May 2023 13:57:42 GMT'}]"
      ]
     },
     "execution_count": 11,
     "metadata": {},
     "output_type": "execute_result"
    }
   ],
   "source": [
    "news_items"
   ]
  },
  {
   "cell_type": "code",
   "execution_count": 12,
   "id": "086bb131-932a-41c0-b9b4-38e4f3630e6e",
   "metadata": {
    "tags": []
   },
   "outputs": [
    {
     "data": {
      "text/html": [
       "<div>\n",
       "<style scoped>\n",
       "    .dataframe tbody tr th:only-of-type {\n",
       "        vertical-align: middle;\n",
       "    }\n",
       "\n",
       "    .dataframe tbody tr th {\n",
       "        vertical-align: top;\n",
       "    }\n",
       "\n",
       "    .dataframe thead th {\n",
       "        text-align: right;\n",
       "    }\n",
       "</style>\n",
       "<table border=\"1\" class=\"dataframe\">\n",
       "  <thead>\n",
       "    <tr style=\"text-align: right;\">\n",
       "      <th></th>\n",
       "      <th>title</th>\n",
       "      <th>description</th>\n",
       "      <th>pubdate</th>\n",
       "    </tr>\n",
       "  </thead>\n",
       "  <tbody>\n",
       "    <tr>\n",
       "      <th>0</th>\n",
       "      <td>Madeleine McCann: Police to search Portuguese ...</td>\n",
       "      <td>Police will start combing the area, 50km from ...</td>\n",
       "      <td>Mon, 22 May 2023 14:10:33 GMT</td>\n",
       "    </tr>\n",
       "    <tr>\n",
       "      <th>1</th>\n",
       "      <td>I'm confident nothing untoward happened over s...</td>\n",
       "      <td>The home secretary refuses to confirm if she a...</td>\n",
       "      <td>Mon, 22 May 2023 13:53:11 GMT</td>\n",
       "    </tr>\n",
       "    <tr>\n",
       "      <th>2</th>\n",
       "      <td>BBC's Naga Munchetty reveals womb condition ad...</td>\n",
       "      <td>The presenter shares her diagnosis of debilita...</td>\n",
       "      <td>Mon, 22 May 2023 10:00:33 GMT</td>\n",
       "    </tr>\n",
       "    <tr>\n",
       "      <th>3</th>\n",
       "      <td>Cyclist Mark Cavendish to retire at end of season</td>\n",
       "      <td>Mark Cavendish, one of Britain's most successf...</td>\n",
       "      <td>Mon, 22 May 2023 12:24:35 GMT</td>\n",
       "    </tr>\n",
       "    <tr>\n",
       "      <th>4</th>\n",
       "      <td>Picnics and blooms: The Chelsea Flower Show in...</td>\n",
       "      <td>Exhibitors are making last-minute adjustments ...</td>\n",
       "      <td>Mon, 22 May 2023 12:55:27 GMT</td>\n",
       "    </tr>\n",
       "  </tbody>\n",
       "</table>\n",
       "</div>"
      ],
      "text/plain": [
       "                                               title  \\\n",
       "0  Madeleine McCann: Police to search Portuguese ...   \n",
       "1  I'm confident nothing untoward happened over s...   \n",
       "2  BBC's Naga Munchetty reveals womb condition ad...   \n",
       "3  Cyclist Mark Cavendish to retire at end of season   \n",
       "4  Picnics and blooms: The Chelsea Flower Show in...   \n",
       "\n",
       "                                         description  \\\n",
       "0  Police will start combing the area, 50km from ...   \n",
       "1  The home secretary refuses to confirm if she a...   \n",
       "2  The presenter shares her diagnosis of debilita...   \n",
       "3  Mark Cavendish, one of Britain's most successf...   \n",
       "4  Exhibitors are making last-minute adjustments ...   \n",
       "\n",
       "                         pubdate  \n",
       "0  Mon, 22 May 2023 14:10:33 GMT  \n",
       "1  Mon, 22 May 2023 13:53:11 GMT  \n",
       "2  Mon, 22 May 2023 10:00:33 GMT  \n",
       "3  Mon, 22 May 2023 12:24:35 GMT  \n",
       "4  Mon, 22 May 2023 12:55:27 GMT  "
      ]
     },
     "execution_count": 12,
     "metadata": {},
     "output_type": "execute_result"
    }
   ],
   "source": [
    "#Convertir la liste en base de données\n",
    "\n",
    "df = pd.DataFrame(news_items,columns=['title','description','pubdate'])\n",
    "df.head()"
   ]
  },
  {
   "cell_type": "code",
   "execution_count": 13,
   "id": "b8ec5278-6faa-4d56-9107-574147ad4a77",
   "metadata": {
    "tags": []
   },
   "outputs": [],
   "source": [
    "#generer le fichier CSV\n",
    "\n",
    "df.to_csv('webscraping.csv', index=False, encoding='utf-8')"
   ]
  },
  {
   "cell_type": "code",
   "execution_count": 14,
   "id": "74d26186-490b-4ae2-b0fb-7c6726c4e028",
   "metadata": {},
   "outputs": [
    {
     "name": "stdout",
     "output_type": "stream",
     "text": [
      "<class 'pandas.core.frame.DataFrame'>\n",
      "RangeIndex: 41 entries, 0 to 40\n",
      "Data columns (total 3 columns):\n",
      " #   Column       Non-Null Count  Dtype \n",
      "---  ------       --------------  ----- \n",
      " 0   title        41 non-null     object\n",
      " 1   description  41 non-null     object\n",
      " 2   pubdate      41 non-null     object\n",
      "dtypes: object(3)\n",
      "memory usage: 1.1+ KB\n"
     ]
    }
   ],
   "source": [
    "df.info()"
   ]
  },
  {
   "cell_type": "code",
   "execution_count": 49,
   "id": "a8b372f9-7144-4126-855e-4bb792768e7c",
   "metadata": {
    "tags": []
   },
   "outputs": [],
   "source": [
    "def jour(x):\n",
    "    return x.split(' ')[1]"
   ]
  },
  {
   "cell_type": "code",
   "execution_count": 50,
   "id": "04d9dd70-d46c-46c8-b21b-34aeca2e906e",
   "metadata": {
    "tags": []
   },
   "outputs": [],
   "source": [
    "df['Annee']=df[\"pubdate\"].apply(jour)"
   ]
  },
  {
   "cell_type": "code",
   "execution_count": 51,
   "id": "29db95e2-7f5a-4012-ac63-fab675d8569a",
   "metadata": {
    "tags": []
   },
   "outputs": [],
   "source": [
    "df['Heure']=pd.to_datetime(df['pubdate']).dt.hour"
   ]
  },
  {
   "cell_type": "code",
   "execution_count": 53,
   "id": "0fb46a19-b283-41a4-8046-10031dab1125",
   "metadata": {
    "tags": []
   },
   "outputs": [
    {
     "data": {
      "text/html": [
       "<div>\n",
       "<style scoped>\n",
       "    .dataframe tbody tr th:only-of-type {\n",
       "        vertical-align: middle;\n",
       "    }\n",
       "\n",
       "    .dataframe tbody tr th {\n",
       "        vertical-align: top;\n",
       "    }\n",
       "\n",
       "    .dataframe thead th {\n",
       "        text-align: right;\n",
       "    }\n",
       "</style>\n",
       "<table border=\"1\" class=\"dataframe\">\n",
       "  <thead>\n",
       "    <tr style=\"text-align: right;\">\n",
       "      <th></th>\n",
       "      <th>title</th>\n",
       "      <th>description</th>\n",
       "      <th>pubdate</th>\n",
       "      <th>Jour</th>\n",
       "      <th>mois</th>\n",
       "      <th>Annee</th>\n",
       "      <th>Heure</th>\n",
       "    </tr>\n",
       "  </thead>\n",
       "  <tbody>\n",
       "    <tr>\n",
       "      <th>12</th>\n",
       "      <td>Explaining the 'how' - the launch of BBC Verify</td>\n",
       "      <td>BBC News CEO Deborah Turness introduces Verify...</td>\n",
       "      <td>Sun, 21 May 2023 23:12:36 GMT</td>\n",
       "      <td>Sun</td>\n",
       "      <td>May</td>\n",
       "      <td>21</td>\n",
       "      <td>23</td>\n",
       "    </tr>\n",
       "    <tr>\n",
       "      <th>8</th>\n",
       "      <td>Phillip Schofield: Alison Hammond and Dermot O...</td>\n",
       "      <td>Stand-in presenters Alison Hammond and Dermot ...</td>\n",
       "      <td>Mon, 22 May 2023 10:37:22 GMT</td>\n",
       "      <td>Mon</td>\n",
       "      <td>May</td>\n",
       "      <td>22</td>\n",
       "      <td>10</td>\n",
       "    </tr>\n",
       "  </tbody>\n",
       "</table>\n",
       "</div>"
      ],
      "text/plain": [
       "                                                title  \\\n",
       "12    Explaining the 'how' - the launch of BBC Verify   \n",
       "8   Phillip Schofield: Alison Hammond and Dermot O...   \n",
       "\n",
       "                                          description  \\\n",
       "12  BBC News CEO Deborah Turness introduces Verify...   \n",
       "8   Stand-in presenters Alison Hammond and Dermot ...   \n",
       "\n",
       "                          pubdate Jour mois Annee  Heure  \n",
       "12  Sun, 21 May 2023 23:12:36 GMT  Sun  May    21     23  \n",
       "8   Mon, 22 May 2023 10:37:22 GMT  Mon  May    22     10  "
      ]
     },
     "execution_count": 53,
     "metadata": {},
     "output_type": "execute_result"
    }
   ],
   "source": [
    "df.sample(2)"
   ]
  },
  {
   "cell_type": "code",
   "execution_count": 54,
   "id": "0c8c9010-9e2f-4174-8d53-a4c0743f667f",
   "metadata": {
    "tags": []
   },
   "outputs": [
    {
     "data": {
      "text/plain": [
       "Mon    33\n",
       "Sun     4\n",
       "Thu     2\n",
       "Wed     1\n",
       "Fri     1\n",
       "Name: Jour, dtype: int64"
      ]
     },
     "execution_count": 54,
     "metadata": {},
     "output_type": "execute_result"
    }
   ],
   "source": [
    "df['Jour'].value_counts()"
   ]
  },
  {
   "cell_type": "code",
   "execution_count": null,
   "id": "40952b1e-ae40-4de2-a056-09aa086a93aa",
   "metadata": {},
   "outputs": [],
   "source": []
  }
 ],
 "metadata": {
  "kernelspec": {
   "display_name": "Python 3 (ipykernel)",
   "language": "python",
   "name": "python3"
  },
  "language_info": {
   "codemirror_mode": {
    "name": "ipython",
    "version": 3
   },
   "file_extension": ".py",
   "mimetype": "text/x-python",
   "name": "python",
   "nbconvert_exporter": "python",
   "pygments_lexer": "ipython3",
   "version": "3.10.6"
  },
  "toc-showcode": true
 },
 "nbformat": 4,
 "nbformat_minor": 5
}
